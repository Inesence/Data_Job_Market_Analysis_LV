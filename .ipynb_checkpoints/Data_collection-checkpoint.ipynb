{
 "cells": [
  {
   "cell_type": "markdown",
   "id": "649e237c",
   "metadata": {},
   "source": [
    "# Analysis of Data Job Market in Latvia\n",
    "## Data Collection and preparation"
   ]
  },
  {
   "cell_type": "markdown",
   "id": "601db5a3",
   "metadata": {},
   "source": [
    "### 0.Setting up Virtual Environment"
   ]
  },
  {
   "cell_type": "code",
   "execution_count": 1,
   "id": "2c13dc78",
   "metadata": {},
   "outputs": [
    {
     "name": "stdout",
     "output_type": "stream",
     "text": [
      "Requirement already satisfied: virtualenv in c:\\users\\inese_\\anaconda3\\lib\\site-packages (20.23.0)\n",
      "Requirement already satisfied: filelock<4,>=3.11 in c:\\users\\inese_\\anaconda3\\lib\\site-packages (from virtualenv) (3.12.0)\n",
      "Requirement already satisfied: platformdirs<4,>=3.2 in c:\\users\\inese_\\anaconda3\\lib\\site-packages (from virtualenv) (3.5.0)\n",
      "Requirement already satisfied: distlib<1,>=0.3.6 in c:\\users\\inese_\\anaconda3\\lib\\site-packages (from virtualenv) (0.3.6)\n",
      "created virtual environment CPython3.8.8.final.0-64 in 6406ms\n",
      "  creator CPython3Windows(dest=C:\\Users\\Inese_\\Desktop\\sgt_project\\myenv, clear=False, no_vcs_ignore=False, global=False)\n",
      "  seeder FromAppData(download=False, pip=bundle, setuptools=bundle, wheel=bundle, via=copy, app_data_dir=C:\\Users\\Inese_\\AppData\\Local\\pypa\\virtualenv)\n",
      "    added seed packages: pip==23.1.2, setuptools==67.7.2, wheel==0.40.0\n",
      "  activators BashActivator,BatchActivator,FishActivator,NushellActivator,PowerShellActivator,PythonActivator\n"
     ]
    }
   ],
   "source": [
    "!pip install virtualenv\n",
    "!virtualenv myenv"
   ]
  },
  {
   "cell_type": "code",
   "execution_count": 2,
   "id": "bfdfb803",
   "metadata": {},
   "outputs": [],
   "source": [
    "!myenv\\Scripts\\activate.bat"
   ]
  },
  {
   "cell_type": "markdown",
   "id": "48a18396",
   "metadata": {},
   "source": [
    "### 1. Data Collection"
   ]
  },
  {
   "cell_type": "code",
   "execution_count": 3,
   "id": "435f99bc",
   "metadata": {},
   "outputs": [],
   "source": [
    "import requests\n",
    "from bs4 import BeautifulSoup"
   ]
  },
  {
   "cell_type": "code",
   "execution_count": 4,
   "id": "c7638b53",
   "metadata": {},
   "outputs": [],
   "source": [
    "import pandas as pd"
   ]
  },
  {
   "cell_type": "code",
   "execution_count": 5,
   "id": "5ab1071c",
   "metadata": {},
   "outputs": [],
   "source": [
    "import re"
   ]
  },
  {
   "cell_type": "code",
   "execution_count": 6,
   "id": "b97797c3",
   "metadata": {},
   "outputs": [],
   "source": [
    "url = 'https://www.cv.lv/lv/search?limit=2000&offset=20&keywords%5B0%5D=data%20analyst&keywords%5B1%5D=data%20scientist&keywords%5B2%5D=data%20engineer&keywords%5B3%5D=machine%20learning&keywords%5B4%5D=analyst&keywords%5B5%5D=anal%C4%ABti%C4%B7is&keywords%5B6%5D=datu&keywords%5B7%5D=datu%20zin%C4%81tnieks&keywords%5B8%5D=big%20data%20analytics&sorting=EXPIRING&fuzzy=false&suitableForRefugees=false&isHourlySalary=false&isRemoteWork=false&isQuickApply=false'\n",
    "response = requests.get(url)"
   ]
  },
  {
   "cell_type": "code",
   "execution_count": 7,
   "id": "1cfaff8e",
   "metadata": {},
   "outputs": [],
   "source": [
    "soup = BeautifulSoup(response.content, 'html.parser')"
   ]
  },
  {
   "cell_type": "code",
   "execution_count": 8,
   "id": "5d32770a",
   "metadata": {},
   "outputs": [],
   "source": [
    "vacancy_items = soup.find_all(\"li\", class_=\"jsx-1871295890 jsx-2661613696 vacancies-list__item false\")"
   ]
  },
  {
   "cell_type": "code",
   "execution_count": 9,
   "id": "c667dccc",
   "metadata": {},
   "outputs": [],
   "source": [
    "vacancies = []\n",
    "for item in vacancy_items:\n",
    "    title = item.find(\"span\", class_=\"jsx-1401030249 vacancy-item__title\").text.strip()\n",
    "    vacancy_item = item.find('a', {'class': 'vacancy-item'})\n",
    "    vacancy_url = vacancy_item.get('href')\n",
    "    end_date = item.find(\"span\", class_=\"jsx-1401030249 vacancy-item__expiry\").text.strip()\n",
    "                                \n",
    "    location = item.find(\"span\", class_=\"jsx-1401030249 vacancy-item__locations\").text.strip()\n",
    "    salary = item.find(\"span\", class_=\"jsx-1401030249 vacancy-item__salary-label\")\n",
    "    if salary is not None:\n",
    "        salary = salary.text.strip()\n",
    "    \n",
    "    info_secondary = item.find('div', {'class': 'vacancy-item__info-secondary'})\n",
    "    info_secondary_text = info_secondary.get_text()\n",
    "    \n",
    "    time_patterns = '(dien(a|s)|stund(a|s)|mēne(ši|sis)|sekund(e|es)|minūt(es|e))'\n",
    "    pattern = f'Publicēts pirms (\\d+) {time_patterns}|Atjaunināts pirms (\\d+) {time_patterns}'\n",
    "    match = re.search(pattern, info_secondary_text)\n",
    "    published = match.group(0)\n",
    "    \n",
    "    p=1\n",
    "    for a_tag in item.find_all('a', {'class': 'jsx-1401030249'}):\n",
    "        p=p+1\n",
    "        if p==3:\n",
    "            company_name = a_tag.text\n",
    "            company_url = a_tag['href']\n",
    "        \n",
    "      \n",
    "    vacancies.append({\n",
    "        \"Title\": title,\n",
    "        \"Vacancy URL\" : vacancy_url,\n",
    "        \"Company name\": company_name,\n",
    "        \"Company URL\" :company_url,\n",
    "        \"Location\": location,\n",
    "        \"Published\": published,\n",
    "        \"End_date\" : end_date, \n",
    "        \"Salary\": salary\n",
    "    })\n",
    "\n",
    "df = pd.DataFrame(vacancies)"
   ]
  },
  {
   "cell_type": "markdown",
   "id": "bc652c0a",
   "metadata": {},
   "source": [
    "### 3. Data Cleaning"
   ]
  },
  {
   "cell_type": "code",
   "execution_count": 10,
   "id": "b535564e",
   "metadata": {},
   "outputs": [],
   "source": [
    "cv_lv_link = r'https://www.cv.lv'\n",
    "df['Vacancy URL'] = cv_lv_link + df['Vacancy URL']\n",
    "df['Company URL'] = cv_lv_link + df['Company URL']"
   ]
  },
  {
   "cell_type": "code",
   "execution_count": 11,
   "id": "063e7802",
   "metadata": {},
   "outputs": [],
   "source": [
    "df['End_date'] = df['End_date'].str.replace('Beidzas: ', '')"
   ]
  },
  {
   "cell_type": "code",
   "execution_count": 12,
   "id": "4d18d3b6",
   "metadata": {},
   "outputs": [],
   "source": [
    "df['Location'] = df['Location'].str.replace('—', '')\n",
    "# split Location column into City, Region, Country\n",
    "df[['City', 'Region', 'Country']] = df['Location'].str.split(', ', expand=True)\n",
    "\n",
    "# remove the original Location column\n",
    "df.drop('Location', axis=1, inplace=True)"
   ]
  },
  {
   "cell_type": "code",
   "execution_count": 13,
   "id": "87d74dfa",
   "metadata": {},
   "outputs": [],
   "source": [
    "# Remove the euro sign\n",
    "df['Salary'] = df['Salary'].str.replace('€', '').str.strip()\n",
    "\n",
    "\n",
    "# Check the format of each entry and apply the corresponding operation\n",
    "df[['Salary Range min', 'Salary Range max']] = df['Salary'].str.split('–', n=1, expand=True)\n"
   ]
  },
  {
   "cell_type": "code",
   "execution_count": 14,
   "id": "7fb61113",
   "metadata": {},
   "outputs": [
    {
     "name": "stderr",
     "output_type": "stream",
     "text": [
      "<ipython-input-14-ca21c0923506>:1: FutureWarning: The default value of regex will change from True to False in a future version.\n",
      "  df['Salary Range min'] = df['Salary Range min'].str.replace('/st.', '').str.strip().astype(float)\n",
      "<ipython-input-14-ca21c0923506>:2: FutureWarning: The default value of regex will change from True to False in a future version.\n",
      "  df['Salary Range max'] = df['Salary Range max'].str.replace('/st.', '').str.strip().astype(float)\n"
     ]
    }
   ],
   "source": [
    "df['Salary Range min'] = df['Salary Range min'].str.replace('/st.', '').str.strip().astype(float)\n",
    "df['Salary Range max'] = df['Salary Range max'].str.replace('/st.', '').str.strip().astype(float)\n"
   ]
  },
  {
   "cell_type": "code",
   "execution_count": 15,
   "id": "c82ce29b",
   "metadata": {},
   "outputs": [],
   "source": [
    "for i in df.index:\n",
    "    if pd.notna(df['Salary'][i]) and isinstance(df['Salary'][i], str) and '/st.' in df['Salary'][i]:\n",
    "        if pd.notna(df['Salary Range min'][i]) and pd.notna(df['Salary Range max'][i]):\n",
    "            df.loc[i, ['Salary Range min', 'Salary Range max']] *= 21.62 * 8\n"
   ]
  },
  {
   "cell_type": "code",
   "execution_count": 16,
   "id": "6974b116",
   "metadata": {},
   "outputs": [],
   "source": [
    "# Round the values to 2 decimal places\n",
    "df['Salary Range min'] = df['Salary Range min'].round(2)\n",
    "df['Salary Range max'] = df['Salary Range max'].round(2)"
   ]
  },
  {
   "cell_type": "code",
   "execution_count": 17,
   "id": "8722b4ef",
   "metadata": {},
   "outputs": [],
   "source": [
    "# remove the original Salary column\n",
    "df.drop('Salary', axis=1, inplace=True)"
   ]
  },
  {
   "cell_type": "code",
   "execution_count": 18,
   "id": "e048b0e3",
   "metadata": {},
   "outputs": [],
   "source": [
    "import re\n",
    "from datetime import datetime, timedelta\n",
    "\n",
    "def get_date_from_string(s):\n",
    "    if \"dien\" in s:\n",
    "        days_ago = int(re.search(r'\\d+', s).group())\n",
    "        return (datetime.now() - timedelta(days=days_ago)).strftime('%d.%m.%Y')\n",
    "    elif \"mēnesi\" in s:\n",
    "        months_ago = int(re.search(r'\\d+', s).group())\n",
    "        return (datetime.now() - timedelta(days=months_ago*30)).strftime('%d.%m.%Y')\n",
    "    elif \"seku\" in s or \"min\" in s or \"stund\" in s:\n",
    "        return datetime.now().strftime('%d.%m.%Y')\n",
    "\n",
    "# Apply the function to the column 'Published'\n",
    "df['Published'] = df['Published'].apply(get_date_from_string)"
   ]
  },
  {
   "cell_type": "code",
   "execution_count": null,
   "id": "c4d73a00",
   "metadata": {},
   "outputs": [],
   "source": []
  },
  {
   "cell_type": "markdown",
   "id": "fa15a17f",
   "metadata": {},
   "source": [
    "### 4. Data Filtering"
   ]
  },
  {
   "cell_type": "code",
   "execution_count": 19,
   "id": "c6ccb7bb",
   "metadata": {},
   "outputs": [],
   "source": [
    "filtered_df = df[df['Title'].str.contains('anal|dat', case=False)]"
   ]
  },
  {
   "cell_type": "code",
   "execution_count": 20,
   "id": "c4ce86c8",
   "metadata": {},
   "outputs": [
    {
     "data": {
      "text/html": [
       "<div>\n",
       "<style scoped>\n",
       "    .dataframe tbody tr th:only-of-type {\n",
       "        vertical-align: middle;\n",
       "    }\n",
       "\n",
       "    .dataframe tbody tr th {\n",
       "        vertical-align: top;\n",
       "    }\n",
       "\n",
       "    .dataframe thead th {\n",
       "        text-align: right;\n",
       "    }\n",
       "</style>\n",
       "<table border=\"1\" class=\"dataframe\">\n",
       "  <thead>\n",
       "    <tr style=\"text-align: right;\">\n",
       "      <th></th>\n",
       "      <th>Title</th>\n",
       "      <th>Vacancy URL</th>\n",
       "      <th>Company name</th>\n",
       "      <th>Company URL</th>\n",
       "      <th>Published</th>\n",
       "      <th>End_date</th>\n",
       "      <th>City</th>\n",
       "      <th>Region</th>\n",
       "      <th>Country</th>\n",
       "      <th>Salary Range min</th>\n",
       "      <th>Salary Range max</th>\n",
       "    </tr>\n",
       "  </thead>\n",
       "  <tbody>\n",
       "    <tr>\n",
       "      <th>4</th>\n",
       "      <td>CRM Analyst</td>\n",
       "      <td>https://www.cv.lv/lv/vacancy/982718/sph-engine...</td>\n",
       "      <td>SPH Engineering, SIA</td>\n",
       "      <td>https://www.cv.lv/lv/search/employer/sph-engin...</td>\n",
       "      <td>03.05.2023</td>\n",
       "      <td>10.05.2023</td>\n",
       "      <td>Baloži</td>\n",
       "      <td>Rīgas rajons</td>\n",
       "      <td>Latvija</td>\n",
       "      <td>2500.0</td>\n",
       "      <td>NaN</td>\n",
       "    </tr>\n",
       "    <tr>\n",
       "      <th>33</th>\n",
       "      <td>Risk &amp; Integrity System Analyst</td>\n",
       "      <td>https://www.cv.lv/lv/vacancy/983555/evolution-...</td>\n",
       "      <td>Evolution Latvia SIA</td>\n",
       "      <td>https://www.cv.lv/lv/search/employer/evolution...</td>\n",
       "      <td>09.05.2023</td>\n",
       "      <td>11.05.2023</td>\n",
       "      <td>Rīga</td>\n",
       "      <td>Rīgas rajons</td>\n",
       "      <td>Latvija</td>\n",
       "      <td>2500.0</td>\n",
       "      <td>NaN</td>\n",
       "    </tr>\n",
       "    <tr>\n",
       "      <th>38</th>\n",
       "      <td>DATU INŽENIERIS</td>\n",
       "      <td>https://www.cv.lv/lv/vacancy/983230/sia-aerone...</td>\n",
       "      <td>SIA Aerones Engineering</td>\n",
       "      <td>https://www.cv.lv/lv/search/employer/sia-aeron...</td>\n",
       "      <td>09.05.2023</td>\n",
       "      <td>11.05.2023</td>\n",
       "      <td>Rīga</td>\n",
       "      <td>Rīgas rajons</td>\n",
       "      <td>Latvija</td>\n",
       "      <td>2000.0</td>\n",
       "      <td>5000.0</td>\n",
       "    </tr>\n",
       "    <tr>\n",
       "      <th>40</th>\n",
       "      <td>REZERVES DAĻU UN NOLIKTAVAS KRĀJUMU DATU IEVAD...</td>\n",
       "      <td>https://www.cv.lv/lv/vacancy/983494/arsenal-in...</td>\n",
       "      <td>Arsenal Industrial SIA</td>\n",
       "      <td>https://www.cv.lv/lv/search/employer/arsenal-i...</td>\n",
       "      <td>09.05.2023</td>\n",
       "      <td>11.05.2023</td>\n",
       "      <td>Rīga</td>\n",
       "      <td>Rīgas rajons</td>\n",
       "      <td>Latvija</td>\n",
       "      <td>1000.0</td>\n",
       "      <td>1300.0</td>\n",
       "    </tr>\n",
       "    <tr>\n",
       "      <th>49</th>\n",
       "      <td>Product Data Specialist (temporary contract)</td>\n",
       "      <td>https://www.cv.lv/lv/vacancy/992227/rimi-latvi...</td>\n",
       "      <td>RIMI Latvia SIA</td>\n",
       "      <td>https://www.cv.lv/lv/search/employer/rimi-latv...</td>\n",
       "      <td>27.04.2023</td>\n",
       "      <td>11.05.2023</td>\n",
       "      <td>Rīga</td>\n",
       "      <td>Rīgas rajons</td>\n",
       "      <td>Latvija</td>\n",
       "      <td>1100.0</td>\n",
       "      <td>1350.0</td>\n",
       "    </tr>\n",
       "    <tr>\n",
       "      <th>...</th>\n",
       "      <td>...</td>\n",
       "      <td>...</td>\n",
       "      <td>...</td>\n",
       "      <td>...</td>\n",
       "      <td>...</td>\n",
       "      <td>...</td>\n",
       "      <td>...</td>\n",
       "      <td>...</td>\n",
       "      <td>...</td>\n",
       "      <td>...</td>\n",
       "      <td>...</td>\n",
       "    </tr>\n",
       "    <tr>\n",
       "      <th>982</th>\n",
       "      <td>VECĀKAIS ĶĪMIĶIS– ANALĪTIĶIS produktu attīstīb...</td>\n",
       "      <td>https://www.cv.lv/lv/vacancy/997175/pharmidea-...</td>\n",
       "      <td>PHARMIDEA SIA</td>\n",
       "      <td>https://www.cv.lv/lv/search/employer/pharmidea...</td>\n",
       "      <td>09.05.2023</td>\n",
       "      <td>09.06.2023</td>\n",
       "      <td>Olaine</td>\n",
       "      <td>Rīgas rajons</td>\n",
       "      <td>Latvija</td>\n",
       "      <td>1700.0</td>\n",
       "      <td>NaN</td>\n",
       "    </tr>\n",
       "    <tr>\n",
       "      <th>983</th>\n",
       "      <td>Datu ievades operators/e</td>\n",
       "      <td>https://www.cv.lv/lv/vacancy/997217/konig-dist...</td>\n",
       "      <td>König Distribution AS</td>\n",
       "      <td>https://www.cv.lv/lv/search/employer/konig-dis...</td>\n",
       "      <td>09.05.2023</td>\n",
       "      <td>09.06.2023</td>\n",
       "      <td>Liepāja</td>\n",
       "      <td>Liepājas rajons</td>\n",
       "      <td>Latvija</td>\n",
       "      <td>900.0</td>\n",
       "      <td>NaN</td>\n",
       "    </tr>\n",
       "    <tr>\n",
       "      <th>987</th>\n",
       "      <td>Biznesa analītikas (BI) eksperts/-e</td>\n",
       "      <td>https://www.cv.lv/lv/vacancy/996869/elva-balti...</td>\n",
       "      <td>Elva Baltic SIA</td>\n",
       "      <td>https://www.cv.lv/lv/search/employer/elva-balt...</td>\n",
       "      <td>09.05.2023</td>\n",
       "      <td>09.06.2023</td>\n",
       "      <td>Rīga</td>\n",
       "      <td>Rīgas rajons</td>\n",
       "      <td>Latvija</td>\n",
       "      <td>2500.0</td>\n",
       "      <td>3500.0</td>\n",
       "    </tr>\n",
       "    <tr>\n",
       "      <th>988</th>\n",
       "      <td>QA analyst with Azerbaijani language</td>\n",
       "      <td>https://www.cv.lv/lv/vacancy/996973/lendiscore...</td>\n",
       "      <td>Lendiscore SIA</td>\n",
       "      <td>https://www.cv.lv/lv/search/employer/lendiscor...</td>\n",
       "      <td>09.05.2023</td>\n",
       "      <td>09.06.2023</td>\n",
       "      <td>Rīga</td>\n",
       "      <td>Rīgas rajons</td>\n",
       "      <td>Latvija</td>\n",
       "      <td>900.0</td>\n",
       "      <td>1600.0</td>\n",
       "    </tr>\n",
       "    <tr>\n",
       "      <th>994</th>\n",
       "      <td>Analītiķis/-e Piegādes tīklā</td>\n",
       "      <td>https://www.cv.lv/lv/vacancy/981781/maxima-lat...</td>\n",
       "      <td>MAXIMA Latvija SIA</td>\n",
       "      <td>https://www.cv.lv/lv/search/employer/maxima-la...</td>\n",
       "      <td>09.05.2023</td>\n",
       "      <td>09.06.2023</td>\n",
       "      <td>Rīgas rajons</td>\n",
       "      <td>Latvija</td>\n",
       "      <td>None</td>\n",
       "      <td>1300.0</td>\n",
       "      <td>NaN</td>\n",
       "    </tr>\n",
       "  </tbody>\n",
       "</table>\n",
       "<p>157 rows × 11 columns</p>\n",
       "</div>"
      ],
      "text/plain": [
       "                                                 Title  \\\n",
       "4                                          CRM Analyst   \n",
       "33                     Risk & Integrity System Analyst   \n",
       "38                                     DATU INŽENIERIS   \n",
       "40   REZERVES DAĻU UN NOLIKTAVAS KRĀJUMU DATU IEVAD...   \n",
       "49        Product Data Specialist (temporary contract)   \n",
       "..                                                 ...   \n",
       "982  VECĀKAIS ĶĪMIĶIS– ANALĪTIĶIS produktu attīstīb...   \n",
       "983                           Datu ievades operators/e   \n",
       "987                Biznesa analītikas (BI) eksperts/-e   \n",
       "988               QA analyst with Azerbaijani language   \n",
       "994                       Analītiķis/-e Piegādes tīklā   \n",
       "\n",
       "                                           Vacancy URL  \\\n",
       "4    https://www.cv.lv/lv/vacancy/982718/sph-engine...   \n",
       "33   https://www.cv.lv/lv/vacancy/983555/evolution-...   \n",
       "38   https://www.cv.lv/lv/vacancy/983230/sia-aerone...   \n",
       "40   https://www.cv.lv/lv/vacancy/983494/arsenal-in...   \n",
       "49   https://www.cv.lv/lv/vacancy/992227/rimi-latvi...   \n",
       "..                                                 ...   \n",
       "982  https://www.cv.lv/lv/vacancy/997175/pharmidea-...   \n",
       "983  https://www.cv.lv/lv/vacancy/997217/konig-dist...   \n",
       "987  https://www.cv.lv/lv/vacancy/996869/elva-balti...   \n",
       "988  https://www.cv.lv/lv/vacancy/996973/lendiscore...   \n",
       "994  https://www.cv.lv/lv/vacancy/981781/maxima-lat...   \n",
       "\n",
       "                Company name  \\\n",
       "4       SPH Engineering, SIA   \n",
       "33      Evolution Latvia SIA   \n",
       "38   SIA Aerones Engineering   \n",
       "40    Arsenal Industrial SIA   \n",
       "49           RIMI Latvia SIA   \n",
       "..                       ...   \n",
       "982            PHARMIDEA SIA   \n",
       "983    König Distribution AS   \n",
       "987          Elva Baltic SIA   \n",
       "988           Lendiscore SIA   \n",
       "994       MAXIMA Latvija SIA   \n",
       "\n",
       "                                           Company URL   Published  \\\n",
       "4    https://www.cv.lv/lv/search/employer/sph-engin...  03.05.2023   \n",
       "33   https://www.cv.lv/lv/search/employer/evolution...  09.05.2023   \n",
       "38   https://www.cv.lv/lv/search/employer/sia-aeron...  09.05.2023   \n",
       "40   https://www.cv.lv/lv/search/employer/arsenal-i...  09.05.2023   \n",
       "49   https://www.cv.lv/lv/search/employer/rimi-latv...  27.04.2023   \n",
       "..                                                 ...         ...   \n",
       "982  https://www.cv.lv/lv/search/employer/pharmidea...  09.05.2023   \n",
       "983  https://www.cv.lv/lv/search/employer/konig-dis...  09.05.2023   \n",
       "987  https://www.cv.lv/lv/search/employer/elva-balt...  09.05.2023   \n",
       "988  https://www.cv.lv/lv/search/employer/lendiscor...  09.05.2023   \n",
       "994  https://www.cv.lv/lv/search/employer/maxima-la...  09.05.2023   \n",
       "\n",
       "       End_date           City           Region  Country  Salary Range min  \\\n",
       "4    10.05.2023         Baloži     Rīgas rajons  Latvija            2500.0   \n",
       "33   11.05.2023           Rīga     Rīgas rajons  Latvija            2500.0   \n",
       "38   11.05.2023           Rīga     Rīgas rajons  Latvija            2000.0   \n",
       "40   11.05.2023           Rīga     Rīgas rajons  Latvija            1000.0   \n",
       "49   11.05.2023           Rīga     Rīgas rajons  Latvija            1100.0   \n",
       "..          ...            ...              ...      ...               ...   \n",
       "982  09.06.2023         Olaine     Rīgas rajons  Latvija            1700.0   \n",
       "983  09.06.2023        Liepāja  Liepājas rajons  Latvija             900.0   \n",
       "987  09.06.2023           Rīga     Rīgas rajons  Latvija            2500.0   \n",
       "988  09.06.2023           Rīga     Rīgas rajons  Latvija             900.0   \n",
       "994  09.06.2023   Rīgas rajons          Latvija     None            1300.0   \n",
       "\n",
       "     Salary Range max  \n",
       "4                 NaN  \n",
       "33                NaN  \n",
       "38             5000.0  \n",
       "40             1300.0  \n",
       "49             1350.0  \n",
       "..                ...  \n",
       "982               NaN  \n",
       "983               NaN  \n",
       "987            3500.0  \n",
       "988            1600.0  \n",
       "994               NaN  \n",
       "\n",
       "[157 rows x 11 columns]"
      ]
     },
     "execution_count": 20,
     "metadata": {},
     "output_type": "execute_result"
    }
   ],
   "source": [
    "filtered_df"
   ]
  },
  {
   "cell_type": "markdown",
   "id": "33e93377",
   "metadata": {},
   "source": [
    "### 5. SQLite Database"
   ]
  },
  {
   "cell_type": "code",
   "execution_count": 21,
   "id": "0d8bd5d6",
   "metadata": {},
   "outputs": [
    {
     "name": "stderr",
     "output_type": "stream",
     "text": [
      "C:\\Users\\Inese_\\anaconda3\\lib\\site-packages\\pandas\\core\\generic.py:2779: UserWarning: The spaces in these column names will not be changed. In pandas versions < 0.14, spaces were converted to underscores.\n",
      "  sql.to_sql(\n"
     ]
    }
   ],
   "source": [
    "import sqlite3\n",
    "import pandas as pd\n",
    "\n",
    "# create a connection to the database\n",
    "conn = sqlite3.connect('Job_postings.db')\n",
    "\n",
    "# save the DataFrame to the database\n",
    "filtered_df.to_sql('mytable', conn)\n",
    "\n",
    "# close the connection\n",
    "conn.close()"
   ]
  },
  {
   "cell_type": "code",
   "execution_count": null,
   "id": "fed7461a",
   "metadata": {},
   "outputs": [],
   "source": []
  }
 ],
 "metadata": {
  "kernelspec": {
   "display_name": "Python 3",
   "language": "python",
   "name": "python3"
  },
  "language_info": {
   "codemirror_mode": {
    "name": "ipython",
    "version": 3
   },
   "file_extension": ".py",
   "mimetype": "text/x-python",
   "name": "python",
   "nbconvert_exporter": "python",
   "pygments_lexer": "ipython3",
   "version": "3.8.8"
  }
 },
 "nbformat": 4,
 "nbformat_minor": 5
}
